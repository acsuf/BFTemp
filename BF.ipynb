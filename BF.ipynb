{
 "cells": [
  {
   "cell_type": "code",
   "execution_count": 1,
   "id": "729db08f",
   "metadata": {},
   "outputs": [],
   "source": [
    "import pandas as pd"
   ]
  },
  {
   "cell_type": "code",
   "execution_count": 2,
   "id": "a3fd8804",
   "metadata": {},
   "outputs": [],
   "source": [
    "df_train = pd.read_csv('data/DailyDelhiClimateTrain.csv')\n",
    "df_test = pd.read_csv('data/DailyDelhiClimateTest.csv')"
   ]
  },
  {
   "cell_type": "code",
   "execution_count": 3,
   "id": "bef9648f",
   "metadata": {},
   "outputs": [
    {
     "data": {
      "text/plain": [
       "(1462, 5)"
      ]
     },
     "execution_count": 3,
     "metadata": {},
     "output_type": "execute_result"
    }
   ],
   "source": [
    "df_train.shape"
   ]
  },
  {
   "cell_type": "code",
   "execution_count": 4,
   "id": "db1d217d",
   "metadata": {},
   "outputs": [
    {
     "data": {
      "text/plain": [
       "(114, 5)"
      ]
     },
     "execution_count": 4,
     "metadata": {},
     "output_type": "execute_result"
    }
   ],
   "source": [
    "df_test.shape"
   ]
  },
  {
   "cell_type": "code",
   "execution_count": 5,
   "id": "07548f63",
   "metadata": {},
   "outputs": [
    {
     "data": {
      "text/html": [
       "<div>\n",
       "<style scoped>\n",
       "    .dataframe tbody tr th:only-of-type {\n",
       "        vertical-align: middle;\n",
       "    }\n",
       "\n",
       "    .dataframe tbody tr th {\n",
       "        vertical-align: top;\n",
       "    }\n",
       "\n",
       "    .dataframe thead th {\n",
       "        text-align: right;\n",
       "    }\n",
       "</style>\n",
       "<table border=\"1\" class=\"dataframe\">\n",
       "  <thead>\n",
       "    <tr style=\"text-align: right;\">\n",
       "      <th></th>\n",
       "      <th>date</th>\n",
       "      <th>meantemp</th>\n",
       "      <th>humidity</th>\n",
       "      <th>wind_speed</th>\n",
       "      <th>meanpressure</th>\n",
       "    </tr>\n",
       "  </thead>\n",
       "  <tbody>\n",
       "    <tr>\n",
       "      <th>0</th>\n",
       "      <td>2013-01-01</td>\n",
       "      <td>10.000000</td>\n",
       "      <td>84.500000</td>\n",
       "      <td>0.000000</td>\n",
       "      <td>1015.666667</td>\n",
       "    </tr>\n",
       "    <tr>\n",
       "      <th>1</th>\n",
       "      <td>2013-01-02</td>\n",
       "      <td>7.400000</td>\n",
       "      <td>92.000000</td>\n",
       "      <td>2.980000</td>\n",
       "      <td>1017.800000</td>\n",
       "    </tr>\n",
       "    <tr>\n",
       "      <th>2</th>\n",
       "      <td>2013-01-03</td>\n",
       "      <td>7.166667</td>\n",
       "      <td>87.000000</td>\n",
       "      <td>4.633333</td>\n",
       "      <td>1018.666667</td>\n",
       "    </tr>\n",
       "    <tr>\n",
       "      <th>3</th>\n",
       "      <td>2013-01-04</td>\n",
       "      <td>8.666667</td>\n",
       "      <td>71.333333</td>\n",
       "      <td>1.233333</td>\n",
       "      <td>1017.166667</td>\n",
       "    </tr>\n",
       "    <tr>\n",
       "      <th>4</th>\n",
       "      <td>2013-01-05</td>\n",
       "      <td>6.000000</td>\n",
       "      <td>86.833333</td>\n",
       "      <td>3.700000</td>\n",
       "      <td>1016.500000</td>\n",
       "    </tr>\n",
       "  </tbody>\n",
       "</table>\n",
       "</div>"
      ],
      "text/plain": [
       "         date   meantemp   humidity  wind_speed  meanpressure\n",
       "0  2013-01-01  10.000000  84.500000    0.000000   1015.666667\n",
       "1  2013-01-02   7.400000  92.000000    2.980000   1017.800000\n",
       "2  2013-01-03   7.166667  87.000000    4.633333   1018.666667\n",
       "3  2013-01-04   8.666667  71.333333    1.233333   1017.166667\n",
       "4  2013-01-05   6.000000  86.833333    3.700000   1016.500000"
      ]
     },
     "execution_count": 5,
     "metadata": {},
     "output_type": "execute_result"
    }
   ],
   "source": [
    "df_train.head()"
   ]
  },
  {
   "cell_type": "code",
   "execution_count": 6,
   "id": "d42c21a6",
   "metadata": {},
   "outputs": [
    {
     "data": {
      "text/html": [
       "<div>\n",
       "<style scoped>\n",
       "    .dataframe tbody tr th:only-of-type {\n",
       "        vertical-align: middle;\n",
       "    }\n",
       "\n",
       "    .dataframe tbody tr th {\n",
       "        vertical-align: top;\n",
       "    }\n",
       "\n",
       "    .dataframe thead th {\n",
       "        text-align: right;\n",
       "    }\n",
       "</style>\n",
       "<table border=\"1\" class=\"dataframe\">\n",
       "  <thead>\n",
       "    <tr style=\"text-align: right;\">\n",
       "      <th></th>\n",
       "      <th>date</th>\n",
       "      <th>meantemp</th>\n",
       "      <th>humidity</th>\n",
       "      <th>wind_speed</th>\n",
       "      <th>meanpressure</th>\n",
       "    </tr>\n",
       "  </thead>\n",
       "  <tbody>\n",
       "    <tr>\n",
       "      <th>0</th>\n",
       "      <td>2017-01-01</td>\n",
       "      <td>15.913043</td>\n",
       "      <td>85.869565</td>\n",
       "      <td>2.743478</td>\n",
       "      <td>59.000000</td>\n",
       "    </tr>\n",
       "    <tr>\n",
       "      <th>1</th>\n",
       "      <td>2017-01-02</td>\n",
       "      <td>18.500000</td>\n",
       "      <td>77.222222</td>\n",
       "      <td>2.894444</td>\n",
       "      <td>1018.277778</td>\n",
       "    </tr>\n",
       "    <tr>\n",
       "      <th>2</th>\n",
       "      <td>2017-01-03</td>\n",
       "      <td>17.111111</td>\n",
       "      <td>81.888889</td>\n",
       "      <td>4.016667</td>\n",
       "      <td>1018.333333</td>\n",
       "    </tr>\n",
       "    <tr>\n",
       "      <th>3</th>\n",
       "      <td>2017-01-04</td>\n",
       "      <td>18.700000</td>\n",
       "      <td>70.050000</td>\n",
       "      <td>4.545000</td>\n",
       "      <td>1015.700000</td>\n",
       "    </tr>\n",
       "    <tr>\n",
       "      <th>4</th>\n",
       "      <td>2017-01-05</td>\n",
       "      <td>18.388889</td>\n",
       "      <td>74.944444</td>\n",
       "      <td>3.300000</td>\n",
       "      <td>1014.333333</td>\n",
       "    </tr>\n",
       "  </tbody>\n",
       "</table>\n",
       "</div>"
      ],
      "text/plain": [
       "         date   meantemp   humidity  wind_speed  meanpressure\n",
       "0  2017-01-01  15.913043  85.869565    2.743478     59.000000\n",
       "1  2017-01-02  18.500000  77.222222    2.894444   1018.277778\n",
       "2  2017-01-03  17.111111  81.888889    4.016667   1018.333333\n",
       "3  2017-01-04  18.700000  70.050000    4.545000   1015.700000\n",
       "4  2017-01-05  18.388889  74.944444    3.300000   1014.333333"
      ]
     },
     "execution_count": 6,
     "metadata": {},
     "output_type": "execute_result"
    }
   ],
   "source": [
    "df_test.head()"
   ]
  },
  {
   "cell_type": "code",
   "execution_count": 7,
   "id": "d40b129f",
   "metadata": {},
   "outputs": [],
   "source": [
    "# Import the adfuller function from the statsmodels module\n",
    "from statsmodels.tsa.stattools import adfuller\n",
    "\n",
    "# Create a function to apply the Augmented Dickey Fuller test\n",
    "def adf_test(timeseries):\n",
    "    print ('Results of Dickey-Fuller Test:')\n",
    "    dftest = adfuller(timeseries, autolag='AIC')\n",
    "    dfoutput = pd.Series(dftest[0:4], index=['Test Statistic','p-value','#Lags Used','Number of Observations Used'])\n",
    "    for key,value in dftest[4].items():\n",
    "        dfoutput['Critical Value (%s)'%key] = value\n",
    "    print (dfoutput)"
   ]
  },
  {
   "cell_type": "code",
   "execution_count": 9,
   "id": "56c43359",
   "metadata": {},
   "outputs": [
    {
     "name": "stdout",
     "output_type": "stream",
     "text": [
      "ADF Test Results for meantemp:\n",
      "Results of Dickey-Fuller Test:\n",
      "Test Statistic                   -2.021069\n",
      "p-value                           0.277412\n",
      "#Lags Used                       10.000000\n",
      "Number of Observations Used    1451.000000\n",
      "Critical Value (1%)              -3.434865\n",
      "Critical Value (5%)              -2.863534\n",
      "Critical Value (10%)             -2.567832\n",
      "dtype: float64\n",
      "\n",
      "\n",
      "ADF Test Results for humidity:\n",
      "Results of Dickey-Fuller Test:\n",
      "Test Statistic                   -3.675577\n",
      "p-value                           0.004470\n",
      "#Lags Used                       15.000000\n",
      "Number of Observations Used    1446.000000\n",
      "Critical Value (1%)              -3.434880\n",
      "Critical Value (5%)              -2.863541\n",
      "Critical Value (10%)             -2.567835\n",
      "dtype: float64\n",
      "\n",
      "\n",
      "ADF Test Results for wind_speed:\n",
      "Results of Dickey-Fuller Test:\n",
      "Test Statistic                   -3.838097\n",
      "p-value                           0.002541\n",
      "#Lags Used                       24.000000\n",
      "Number of Observations Used    1437.000000\n",
      "Critical Value (1%)              -3.434909\n",
      "Critical Value (5%)              -2.863553\n",
      "Critical Value (10%)             -2.567842\n",
      "dtype: float64\n",
      "\n",
      "\n",
      "ADF Test Results for meanpressure:\n",
      "Results of Dickey-Fuller Test:\n",
      "Test Statistic                  -38.078590\n",
      "p-value                           0.000000\n",
      "#Lags Used                        0.000000\n",
      "Number of Observations Used    1461.000000\n",
      "Critical Value (1%)              -3.434834\n",
      "Critical Value (5%)              -2.863520\n",
      "Critical Value (10%)             -2.567824\n",
      "dtype: float64\n",
      "\n",
      "\n"
     ]
    }
   ],
   "source": [
    "columns_to_test = df_train.drop('date', axis=1).columns\n",
    "\n",
    "for column in columns_to_test:\n",
    "    print(f'ADF Test Results for {column}:')\n",
    "    adf_test(df_train[column])\n",
    "    print('\\n')"
   ]
  },
  {
   "cell_type": "markdown",
   "id": "068f4513",
   "metadata": {},
   "source": [
    "# Interpeting results\n",
    "\n",
    "Excluding meantemp, the features are stationary as the test statistic is lower than the critical values (with more than 99% confidence).\n",
    "In order to meet the assumptions for Bayesian forecasting, we will difference meantemp to try to make it stationary."
   ]
  },
  {
   "cell_type": "code",
   "execution_count": 10,
   "id": "621691d5",
   "metadata": {},
   "outputs": [
    {
     "name": "stdout",
     "output_type": "stream",
     "text": [
      "0      -2.600000\n",
      "1      -0.233333\n",
      "2       1.500000\n",
      "3      -2.666667\n",
      "4       1.000000\n",
      "          ...   \n",
      "1456    0.367391\n",
      "1457   -1.979296\n",
      "1458   -1.142857\n",
      "1459    0.957393\n",
      "1460   -5.052632\n",
      "Length: 1461, dtype: float64\n"
     ]
    }
   ],
   "source": [
    "# Function to difference series\n",
    "def difference(dataset):\n",
    "    diff = list()\n",
    "    for i in range(1, len(dataset)):\n",
    "        value = dataset[i] - dataset[i - 1]\n",
    "        diff.append(value)\n",
    "    return pd.Series(diff)\n",
    "\n",
    "# difference the 'meantemp' series\n",
    "diff_meantemp = difference(df_train['meantemp'])\n",
    "\n",
    "# You can print the differenced series\n",
    "print(diff_meantemp)"
   ]
  },
  {
   "cell_type": "code",
   "execution_count": 11,
   "id": "15d3c235",
   "metadata": {},
   "outputs": [
    {
     "name": "stdout",
     "output_type": "stream",
     "text": [
      "Results of Dickey-Fuller Test:\n",
      "Test Statistic                -1.637872e+01\n",
      "p-value                        2.764863e-29\n",
      "#Lags Used                     9.000000e+00\n",
      "Number of Observations Used    1.451000e+03\n",
      "Critical Value (1%)           -3.434865e+00\n",
      "Critical Value (5%)           -2.863534e+00\n",
      "Critical Value (10%)          -2.567832e+00\n",
      "dtype: float64\n"
     ]
    }
   ],
   "source": [
    "# create a new dataframe, dropping the first row from the original df_train\n",
    "# as the differenced series is now shorter by 1\n",
    "df_train_diff = df_train.drop(df_train.index[0])\n",
    "\n",
    "# replace the 'meantemp' column with the differenced series\n",
    "df_train_diff['meantemp'] = diff_meantemp.values\n",
    "\n",
    "# run adftest to see if it's now stationary\n",
    "adf_test(df_train_diff['meantemp'])"
   ]
  },
  {
   "cell_type": "markdown",
   "id": "f92bac78",
   "metadata": {},
   "source": [
    "# Success!\n",
    "All of our features look to be stationary. At the moment, we won't check for the other assumptions of Bayesian forecasting:\n",
    "\n",
    "- No serial correlation\n",
    "- Homoscedasticity\n",
    "- No endogeneity\n",
    "\n",
    "Now we can begin applying BVAR via pymc3."
   ]
  },
  {
   "cell_type": "code",
   "execution_count": null,
   "id": "feb43354",
   "metadata": {},
   "outputs": [],
   "source": []
  }
 ],
 "metadata": {
  "kernelspec": {
   "display_name": "Python 3 (ipykernel)",
   "language": "python",
   "name": "python3"
  },
  "language_info": {
   "codemirror_mode": {
    "name": "ipython",
    "version": 3
   },
   "file_extension": ".py",
   "mimetype": "text/x-python",
   "name": "python",
   "nbconvert_exporter": "python",
   "pygments_lexer": "ipython3",
   "version": "3.9.12"
  }
 },
 "nbformat": 4,
 "nbformat_minor": 5
}
